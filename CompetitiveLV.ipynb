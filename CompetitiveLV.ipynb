{
 "cells": [
  {
   "cell_type": "code",
   "execution_count": 35,
   "id": "933648c4-d510-4767-a901-b2c4169e586b",
   "metadata": {
    "execution": {
     "iopub.execute_input": "2021-12-05T17:51:22.083518Z",
     "iopub.status.busy": "2021-12-05T17:51:22.083518Z",
     "iopub.status.idle": "2021-12-05T17:51:22.104505Z",
     "shell.execute_reply": "2021-12-05T17:51:22.102505Z",
     "shell.execute_reply.started": "2021-12-05T17:51:22.083518Z"
    },
    "tags": []
   },
   "outputs": [],
   "source": [
    "from __future__ import annotations\n",
    "import numpy as np\n",
    "import scipy as sci\n",
    "import matplotlib.pyplot as plt\n",
    "from scipy import integrate\n",
    "rk45 = integrate.solve_ivp"
   ]
  },
  {
   "cell_type": "code",
   "execution_count": 9,
   "id": "714ffbce-cc52-4cb1-a574-52e5aba5419b",
   "metadata": {
    "execution": {
     "iopub.execute_input": "2021-12-05T17:43:54.158111Z",
     "iopub.status.busy": "2021-12-05T17:43:54.157111Z",
     "iopub.status.idle": "2021-12-05T17:43:54.182095Z",
     "shell.execute_reply": "2021-12-05T17:43:54.180095Z",
     "shell.execute_reply.started": "2021-12-05T17:43:54.158111Z"
    },
    "tags": []
   },
   "outputs": [],
   "source": [
    "# Parameters\n",
    "class CompetitiveLV:\n",
    "    def __init__(self, parameters: dict):\n",
    "        self.r  = parameters['r']  # array of intrinsic growth rates\n",
    "        self.K  = parameters['K']  # array of carrying capacities\n",
    "        self.a  = parameters['a']  # array of alpha values (limiting effect of one species on another)\n",
    "        self.t  = np.arange(0, len(self.r))\n",
    "        \n",
    "    def dN_dt(self, N: np.array, t: float = 0) -> np.array:\n",
    "        \"\"\" \n",
    "        Calculates the growth rates for all species\n",
    "\n",
    "        \"\"\"\n",
    "        \n",
    "        dN = np.zeros((len(N), ))\n",
    "        for i in self.t:\n",
    "            dN[i] = self.r[i] * N[i] * (1 - ((N[i] + np.sum(self.a[i] * N)) / self.K[i]))\n",
    "        return dN            \n",
    "        \n",
    "    \n",
    "    def solve(self, ode: Callable, N0: np.array, t: np.array):\n",
    "        sol = ode(self.dN_dt, N0, t)\n",
    "        if sol.shape[1] == 2:\n",
    "            self.plot2D(sol, t)\n",
    "        else:\n",
    "            self.plot3D(sol, t)\n",
    "        return sol\n",
    "        \n",
    "    def plot2D(self, \n",
    "               sol:    np.array, \n",
    "               t:      np.array, \n",
    "               labels: List[str] = [\"Species 1\", \"Species 2\"],\n",
    "               title:  str       = \"Populations Over Time\"):\n",
    "        \n",
    "        plt.plot(t, sol[:, 0], label = labels[0])\n",
    "        plt.plot(t, sol[:, 1], label = labels[1])\n",
    "        plt.legend()\n",
    "        plt.xlabel(\"Time\")\n",
    "        plt.ylabel(\"Population Size\")\n",
    "        plt.show()\n",
    "        \n",
    "    def plot3D(self,\n",
    "               sol:    np.array,\n",
    "               t:      np.array,\n",
    "               labels: List[str] = [\"Species 1\", \"Species 2\", \"Species 3\"],\n",
    "               title:  str       = \"Populations Over Time\"):\n",
    "        return"
   ]
  },
  {
   "cell_type": "code",
   "execution_count": 54,
   "id": "39f26a96-9d7d-40e9-ac7f-0abde519675e",
   "metadata": {
    "execution": {
     "iopub.execute_input": "2021-12-05T17:56:03.070557Z",
     "iopub.status.busy": "2021-12-05T17:56:03.070557Z",
     "iopub.status.idle": "2021-12-05T17:56:03.083548Z",
     "shell.execute_reply": "2021-12-05T17:56:03.081549Z",
     "shell.execute_reply.started": "2021-12-05T17:56:03.070557Z"
    },
    "tags": []
   },
   "outputs": [],
   "source": [
    "def Euler(f: Callable, X0: np.array, t: np.array):\n",
    "    h = (t[-1] + t[0]) / len(t)\n",
    "    X = np.zeros((len(t), len(X0)))\n",
    "    X[0] = X0\n",
    "    for i in range(len(t) - 1):\n",
    "        X[i + 1] = X[i] + h * f(X[i], t[i])\n",
    "    return X\n",
    "\n",
    "def Trapezoidal(f: Callable, X0: np.array, t: np.array):\n",
    "    h = (t[-1] + t[0]) / len(t)\n",
    "    X = np.zeros((len(t), len(X0)))\n",
    "    X[0] = X0\n",
    "\n",
    "    for i in range(len(t) - 1):\n",
    "        k1 = f(X[i], t[i])\n",
    "        k2 = f(X[i] + h * k1, t[i] + h)\n",
    "        X[i + 1] = X[i] + (h / 2) * (k1 + k2)\n",
    "        \n",
    "    return X\n",
    "\n",
    "def Midpoint(f: Callable, X0: np.array, t: np.array):\n",
    "    h = (t[-1] + t[0]) / len(t)\n",
    "    X = np.zeros((len(t), len(X0)))\n",
    "    X[0] = X0\n",
    "\n",
    "    for i in range(len(t) - 1):\n",
    "        k = f(X[i] + (h / 2) * f(X[i], t[i]), t[i] + (h / 2))\n",
    "        X[i + 1] = X[i] + h * k\n",
    "\n",
    "    return X"
   ]
  },
  {
   "cell_type": "code",
   "execution_count": 73,
   "id": "f206eee9-e2c3-4d13-8244-e95a676ee09c",
   "metadata": {
    "execution": {
     "iopub.execute_input": "2021-12-05T17:58:09.422489Z",
     "iopub.status.busy": "2021-12-05T17:58:09.422489Z",
     "iopub.status.idle": "2021-12-05T17:58:09.429483Z",
     "shell.execute_reply": "2021-12-05T17:58:09.428484Z",
     "shell.execute_reply.started": "2021-12-05T17:58:09.422489Z"
    },
    "tags": []
   },
   "outputs": [],
   "source": [
    "parameters = {\n",
    "    'r': np.array( [0.4, 0.1] ),\n",
    "    'K': np.array( [100, 100] ),\n",
    "    'a': np.array( [[0, 1.1],\n",
    "                    [0.9, 0]])\n",
    "}\n",
    "\n",
    "LV = CompetitiveLV(parameters)\n",
    "\n",
    "ode = integrate.odeint"
   ]
  },
  {
   "cell_type": "code",
   "execution_count": 74,
   "id": "90b997a0-287a-4ab5-b833-77850f612f6c",
   "metadata": {
    "execution": {
     "iopub.execute_input": "2021-12-05T17:58:09.761776Z",
     "iopub.status.busy": "2021-12-05T17:58:09.761776Z",
     "iopub.status.idle": "2021-12-05T17:58:10.008603Z",
     "shell.execute_reply": "2021-12-05T17:58:10.007603Z",
     "shell.execute_reply.started": "2021-12-05T17:58:09.761776Z"
    },
    "tags": []
   },
   "outputs": [
    {
     "data": {
      "image/png": "[encoded data removed]",
      "text/plain": [
       "<Figure size 432x288 with 1 Axes>"
      ]
     },
     "metadata": {
      "needs_background": "light"
     },
     "output_type": "display_data"
    }
   ],
   "source": [
    "h = 10\n",
    "T = 500\n",
    "t  = np.linspace(0, T, int(T / h))\n",
    "N0 = np.array([6, 2])\n",
    "sol = LV.solve(ode, N0, t)"
   ]
  },
  {
   "cell_type": "code",
   "execution_count": 9,
   "id": "00b50c20-faf6-4372-a889-1dac492e56fa",
   "metadata": {
    "execution": {
     "iopub.execute_input": "2021-12-03T01:10:45.953001Z",
     "iopub.status.busy": "2021-12-03T01:10:45.953001Z",
     "iopub.status.idle": "2021-12-03T01:10:45.967991Z",
     "shell.execute_reply": "2021-12-03T01:10:45.966992Z",
     "shell.execute_reply.started": "2021-12-03T01:10:45.953001Z"
    }
   },
   "outputs": [
    {
     "data": {
      "text/plain": [
       "array([[ 6.        ,  5.        ],\n",
       "       [ 6.16037283,  5.13708244],\n",
       "       [ 6.32440793,  5.27749765],\n",
       "       ...,\n",
       "       [ 0.46593401, 99.53406601],\n",
       "       [ 0.46315692, 99.53684311],\n",
       "       [ 0.4603963 , 99.53960372]])"
      ]
     },
     "execution_count": 9,
     "metadata": {},
     "output_type": "execute_result"
    }
   ],
   "source": [
    "sol"
   ]
  },
  {
   "cell_type": "code",
   "execution_count": null,
   "id": "05d08417-b80c-451b-86f9-898a9b29efcb",
   "metadata": {},
   "outputs": [],
   "source": []
  }
 ],
 "metadata": {
  "kernelspec": {
   "display_name": "Python 3",
   "language": "python",
   "name": "python3"
  },
  "language_info": {
   "codemirror_mode": {
    "name": "ipython",
    "version": 3
   },
   "file_extension": ".py",
   "mimetype": "text/x-python",
   "name": "python",
   "nbconvert_exporter": "python",
   "pygments_lexer": "ipython3",
   "version": "3.9.2"
  }
 },
 "nbformat": 4,
 "nbformat_minor": 5
}
